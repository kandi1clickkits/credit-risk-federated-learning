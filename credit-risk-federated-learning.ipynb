{
 "cells": [
  {
   "cell_type": "markdown",
   "metadata": {
    "papermill": {
     "duration": 0.031644,
     "end_time": "2021-04-19T18:39:05.953616",
     "exception": false,
     "start_time": "2021-04-19T18:39:05.921972",
     "status": "completed"
    },
    "tags": []
   },
   "source": [
    "<a id=\"table\"></a>\n",
    "<h1 style=\"background-color:yellow;font-family:newtimeroman;font-size:350%;text-align:center;border-radius: 15px 50px;\">Table Of Content</h1>\n",
    "\n",
    "\n",
    "* [1. Introduction](#1)\n",
    "    * [1.1 About the Dataset](#1.2)\n",
    "    * [1.2 About Federated Learning and Flower](#1.3)\n",
    "* [2. Federated Learning Components](#2)\n",
    "    * [2.1 Job of a global server](#2.1)\n",
    "    * [2.2 Job of each clients](#2.2)\n",
    "    * [2.3 Federated Learning Architecture](#2.3)\n",
    "* [3. How to run?](#3)\n",
    "    * [3.1 How to execute federated learning](#3.2)\n",
    "    * [3.2 Inferences on Unseen data](#3.3)\n",
    "    * [3.3 Things that you can modify/experiment](#3.4)\n",
    "* [4. References](#4)"
   ]
  },
  {
   "cell_type": "markdown",
   "metadata": {
    "papermill": {
     "duration": 0.0312,
     "end_time": "2021-04-19T18:39:06.015721",
     "exception": false,
     "start_time": "2021-04-19T18:39:05.984521",
     "status": "completed"
    },
    "tags": []
   },
   "source": [
    "<a id=\"1.2\"></a>\n",
    "<h3 style=\"background-color:yellow;font-family:newtimeroman;font-size:200%;text-align:center;border-radius: 15px 50px;\">About the Dataset</h3>"
   ]
  },
  {
   "cell_type": "markdown",
   "metadata": {
    "execution": {
     "iopub.execute_input": "2021-04-19T18:39:06.084049Z",
     "iopub.status.busy": "2021-04-19T18:39:06.083192Z",
     "iopub.status.idle": "2021-04-19T18:39:09.191842Z",
     "shell.execute_reply": "2021-04-19T18:39:09.190808Z"
    },
    "papermill": {
     "duration": 3.145644,
     "end_time": "2021-04-19T18:39:09.192093",
     "exception": false,
     "start_time": "2021-04-19T18:39:06.046449",
     "status": "completed"
    },
    "tags": []
   },
   "source": [
    "***\n",
    "                           CREDIT RISK DATASET\n",
    "***\n",
    "> <b>Credit risk</b> is simply known as the possibility of a loss for a lender due to a borrower’s failure to repay a loan.\n",
    "\n",
    "We have total of <b>86 FEATURE</b> columns and <b>1 TARGET</b> column.\n",
    "\n",
    "<b>EXAMPLE FEATURES:\n",
    "* Loan Amount (numerical - in dollars)\n",
    "* Interest Rate (numerical - in percentage)\n",
    "* Annual Income (numerical - in dollars)\n",
    "* Home ownership (OWN/RENT)\n",
    "\n",
    "<b>TARGET column:\n",
    "* Loan status (High Risk/Low Risk)\n",
    "> We are going to predict whether it is high risk or low risk for the lender. We will be converting the target to 1 and 0 for simplicity.\n",
    "    - High Risk as 1\n",
    "    - Low Risk as 0"
   ]
  },
  {
   "cell_type": "markdown",
   "metadata": {
    "papermill": {
     "duration": 0.030113,
     "end_time": "2021-04-19T18:39:09.253051",
     "exception": false,
     "start_time": "2021-04-19T18:39:09.222938",
     "status": "completed"
    },
    "tags": []
   },
   "source": [
    "<a id=\"1.3\"></a>\n",
    "<h3 style=\"background-color:yellow;font-family:newtimeroman;font-size:200%;text-align:center;border-radius: 15px 50px;\">About Federated Learning and Flower</h3>"
   ]
  },
  {
   "cell_type": "markdown",
   "metadata": {
    "_kg_hide-input": false,
    "execution": {
     "iopub.execute_input": "2021-04-19T18:39:09.319266Z",
     "iopub.status.busy": "2021-04-19T18:39:09.318445Z",
     "iopub.status.idle": "2021-04-19T18:39:16.419057Z",
     "shell.execute_reply": "2021-04-19T18:39:16.420638Z"
    },
    "papermill": {
     "duration": 7.136489,
     "end_time": "2021-04-19T18:39:16.420850",
     "exception": false,
     "start_time": "2021-04-19T18:39:09.284361",
     "status": "completed"
    },
    "tags": []
   },
   "source": [
    "***\n",
    "                           FEDERATED LEARNING\n",
    "***\n",
    "> <b>Federated Learning</b> is a way to train AI models without anyone seeing or touching your data. It seems to have a lot of potentials. Not only it secures user sensitive information, but also aggregates results and identifies common patterns from a lot of users, which makes the model robust, day by day.\n",
    "\n",
    "***\n",
    "                                FLOWER\n",
    "***\n",
    "<b>Flower (flwr)</b> is a framework for building federated learning systems.\n",
    "Some of the popular opensource framework for federated learning system:\n",
    "\n",
    "<b>1. TensorFlow Federated (TFF)</b>\n",
    ">  TFF is built on top of the popular TensorFlow deep learning framework, making it easy for TensorFlow users to get started with federated learning.\n",
    "\n",
    "<b>2. PySyft</b>\n",
    ">  PySyft It is a more general-purpose federated learning framework that is not tied to any particular deep learning framework. It is particularly popular in the research community, where it is used to explore new approaches to privacy-preserving machine learning\n",
    "\n",
    "<b>3. Flower</b>\n",
    "> Flower is a more focused federated learning framework that is designed to be easy to use and integrate with existing deep learning frameworks like PyTorch and TensorFlow. It provides a simple and intuitive API for building federated learning models, and includes features like adaptive learning rate schedules and dynamic model aggregation. Flower is particularly well-suited for building production-ready federated learning systems.\n",
    "\n",
    "<b>4. Openfl </b>\n",
    "> OpenFL is built on top of the popular Apache Spark distributed computing framework, and supports a range of machine learning libraries, including TensorFlow, PyTorch, and scikit-learn. OpenFL is particularly well-suited for large-scale federated learning projects, as it is designed to work with big data and can easily scale to thousands of nodes."
   ]
  },
  {
   "cell_type": "markdown",
   "metadata": {
    "papermill": {
     "duration": 0.031175,
     "end_time": "2021-04-19T18:39:16.537634",
     "exception": false,
     "start_time": "2021-04-19T18:39:16.506459",
     "status": "completed"
    },
    "tags": []
   },
   "source": [
    "<a id=\"2\"></a>\n",
    "<h1 style=\"background-color:yellow;font-family:newtimeroman;font-size:300%;text-align:center;border-radius: 15px 50px;\">Federated Learning Components</h1>"
   ]
  },
  {
   "cell_type": "markdown",
   "metadata": {},
   "source": [
    "The two main components of a federated learning system are:\n",
    "\n",
    "<b>1. Clients</b>\n",
    "\n",
    "<b>2. Central Server</b>\n",
    "\n",
    "Together, the clients and central server form the core components of a federated learning system. By leveraging the power of distributed computing and preserving data privacy, federated learning enables the creation of machine learning models that are more accurate and generalizable than traditional centralized models."
   ]
  },
  {
   "cell_type": "markdown",
   "metadata": {
    "papermill": {
     "duration": 0.031002,
     "end_time": "2021-04-19T18:39:16.599953",
     "exception": false,
     "start_time": "2021-04-19T18:39:16.568951",
     "status": "completed"
    },
    "tags": []
   },
   "source": [
    "<a id=\"2.1\"></a>\n",
    "<h3 style=\"background-color:yellow;font-family:newtimeroman;font-size:200%;text-align:center;border-radius: 15px 50px;\">Job of a Global/Centralized server</h3>"
   ]
  },
  {
   "cell_type": "markdown",
   "metadata": {
    "execution": {
     "iopub.execute_input": "2021-04-19T18:39:16.680522Z",
     "iopub.status.busy": "2021-04-19T18:39:16.674971Z",
     "iopub.status.idle": "2021-04-19T18:39:17.636856Z",
     "shell.execute_reply": "2021-04-19T18:39:17.636118Z"
    },
    "papermill": {
     "duration": 1.004312,
     "end_time": "2021-04-19T18:39:17.637040",
     "exception": false,
     "start_time": "2021-04-19T18:39:16.632728",
     "status": "completed"
    },
    "tags": []
   },
   "source": [
    "> <b>A centralized server</b> acts as a coordinator between multiple clients that are involved in the training process. The job of the centralized server is to manage the overall training process and ensure that the models generated by the clients are aggregated in a way that produces an accurate and reliable final model.\n",
    "\n",
    "some of the key responsibilities of the global server:\n",
    "\n",
    "1. Model Initialization\n",
    "2. Get Model Weights\n",
    "3. Model Aggregation\n",
    "4. Model Evaluation\n",
    "5. Update Model Weights"
   ]
  },
  {
   "cell_type": "markdown",
   "metadata": {
    "papermill": {
     "duration": 0.034805,
     "end_time": "2021-04-19T18:39:17.707745",
     "exception": false,
     "start_time": "2021-04-19T18:39:17.672940",
     "status": "completed"
    },
    "tags": []
   },
   "source": [
    "<a id=\"2.2\"></a>\n",
    "<h3 style=\"background-color:yellow;font-family:newtimeroman;font-size:200%;text-align:center;border-radius: 15px 50px;\">Job of each clients</h3>"
   ]
  },
  {
   "cell_type": "markdown",
   "metadata": {
    "execution": {
     "iopub.execute_input": "2021-04-19T18:39:17.811308Z",
     "iopub.status.busy": "2021-04-19T18:39:17.786866Z",
     "iopub.status.idle": "2021-04-19T18:39:18.285082Z",
     "shell.execute_reply": "2021-04-19T18:39:18.284033Z"
    },
    "papermill": {
     "duration": 0.542184,
     "end_time": "2021-04-19T18:39:18.285280",
     "exception": false,
     "start_time": "2021-04-19T18:39:17.743096",
     "status": "completed"
    },
    "tags": []
   },
   "source": [
    "> Each <b>clients</b> play a critical role in training the machine learning model on their local data while maintaining the privacy and security of that data.\n",
    "\n",
    "some of the key responsibilities of the clients:\n",
    "\n",
    "1. Data Preparation\n",
    "2. Local Model Training\n",
    "3. Model Update Submission\n",
    "4. Privacy and Security\n",
    "5. Model Evaluation"
   ]
  },
  {
   "cell_type": "markdown",
   "metadata": {
    "papermill": {
     "duration": 0.02722,
     "end_time": "2021-04-19T18:39:18.960104",
     "exception": false,
     "start_time": "2021-04-19T18:39:18.932884",
     "status": "completed"
    },
    "tags": []
   },
   "source": [
    "<a id=\"2.3\"></a>\n",
    "<h3 style=\"background-color:yellow;font-family:newtimeroman;font-size:200%;text-align:center;border-radius: 15px 50px;\">Federated Learning Architecture</h3>"
   ]
  },
  {
   "attachments": {
    "architeture.png": {
     "image/png": "[encoded data removed]"
    }
   },
   "cell_type": "markdown",
   "metadata": {
    "execution": {
     "iopub.execute_input": "2021-04-19T18:39:19.210701Z",
     "iopub.status.busy": "2021-04-19T18:39:19.209990Z",
     "iopub.status.idle": "2021-04-19T18:39:19.389682Z",
     "shell.execute_reply": "2021-04-19T18:39:19.388830Z"
    },
    "papermill": {
     "duration": 0.402747,
     "end_time": "2021-04-19T18:39:19.389917",
     "exception": false,
     "start_time": "2021-04-19T18:39:18.987170",
     "status": "completed"
    },
    "tags": []
   },
   "source": [
    "![architeture.png](attachment:architeture.png)"
   ]
  },
  {
   "cell_type": "markdown",
   "metadata": {
    "papermill": {
     "duration": 0.043188,
     "end_time": "2021-04-19T18:39:35.567717",
     "exception": false,
     "start_time": "2021-04-19T18:39:35.524529",
     "status": "completed"
    },
    "tags": []
   },
   "source": [
    "<a id=\"3\"></a>\n",
    "<h1 style=\"background-color:yellow;font-family:newtimeroman;font-size:300%;text-align:center;border-radius: 15px 50px;\">How to Run?</h1>"
   ]
  },
  {
   "cell_type": "markdown",
   "metadata": {},
   "source": [
    "<a id=\"3.2\"></a>\n",
    "<h3 style=\"background-color:yellow;font-family:newtimeroman;font-size:200%;text-align:center;border-radius: 15px 50px;\">How to execute federated learning</h3>"
   ]
  },
  {
   "cell_type": "markdown",
   "metadata": {},
   "source": [
    "#### 1. First run server.bat file which runs server.py file"
   ]
  },
  {
   "cell_type": "markdown",
   "metadata": {},
   "source": [
    "#### 2. As we set min available clients as 4, we need to execute these files to run the training process on respective clients. So you can start client.bat file which will run all 4 clients in 4 terminal. "
   ]
  },
  {
   "cell_type": "markdown",
   "metadata": {},
   "source": [
    "#### Based on Number of rounds, the training will iterate for multiple rounds. Here we set the number of rounds as 5."
   ]
  },
  {
   "cell_type": "markdown",
   "metadata": {},
   "source": [
    "<a id=\"3.4\"></a>\n",
    "<h3 style=\"background-color:yellow;font-family:newtimeroman;font-size:200%;text-align:center;border-radius: 15px 50px;\">Things that you can modify/experiment</h3>"
   ]
  },
  {
   "cell_type": "markdown",
   "metadata": {},
   "source": [
    "### parameters you can play/experiment with\n",
    "\n",
    "Currently we will look at these 4 parameters in server.py\n",
    "\n",
    "1. min_available_clients\n",
    "2. min_fit_clients\n",
    "3. fraction_fit\n",
    "4. num_rounds\n",
    "\n",
    "<b>(min_available_clients = 4)</b> which means server atleast need 4 clients to start the training.\n",
    "\n",
    "<b>(min_fit_clients = 2)</b>  Atleast 2 clients will to be used for the training.\n",
    "\n",
    "<b>(fraction_fit = 0.8)</b>  Out of 4 clients, 80% of clients will be used for training purpose. i.e ( 80 percent of 4 is 3.2, hence atmost 3 clients will be used on each round of training)\n",
    "\n",
    "<b>(num_rounds = 5)</b>  Training will iterate over 5 rounds. Each round, random 3 clients models get aggregated(if we set fraction_fit=0.8) or All 4 clients models get aggregated(if we set fraction_fit=1). And at the end of final round, you get the finalized updated model."
   ]
  },
  {
   "cell_type": "markdown",
   "metadata": {},
   "source": [
    "<a id=\"3.3\"></a>\n",
    "<h3 style=\"background-color:yellow;font-family:newtimeroman;font-size:200%;text-align:center;border-radius: 15px 50px;\">Inferences on Unseen data</h3>"
   ]
  },
  {
   "cell_type": "markdown",
   "metadata": {},
   "source": [
    "> #### After training we save the model of each clients and also the aggregated models. we ran the inferences on these models and now, we will look into the metrics on Unseen data(test.csv) using these client and aggregated models. \n",
    "(NOTE: In the below images, we used \n",
    "\n",
    "> min available client = 4\n",
    "\n",
    "> min_fit_clients = 2\n",
    "\n",
    "> fraction_fit = 0.7\n",
    "\n",
    "> num_rounds = 5"
   ]
  },
  {
   "cell_type": "markdown",
   "metadata": {},
   "source": [
    "Please refer this notebook on Inferences: http://localhost:8888/notebooks/Inference.ipynb"
   ]
  },
  {
   "cell_type": "markdown",
   "metadata": {},
   "source": [
    "> So at the end of 5 rounds you can see the difference in the metrics.\n",
    "\n",
    "1. So this tells us the federated learning makes the model <b>robust</b> by identifying common patterns from lot of clients.\n",
    "2. To experiment with inference code. There is a jupyter notebook available <b>(inference.ipynb) </b>. you can use that to experiment with your own model/data.\n",
    "\n",
    "### THANKS!"
   ]
  },
  {
   "cell_type": "markdown",
   "metadata": {
    "papermill": {
     "duration": 0.046069,
     "end_time": "2021-04-19T18:39:38.563438",
     "exception": false,
     "start_time": "2021-04-19T18:39:38.517369",
     "status": "completed"
    },
    "tags": []
   },
   "source": [
    "<a id=\"4\"></a>\n",
    "<h1 style=\"background-color:yellow;font-family:newtimeroman;font-size:300%;text-align:center;border-radius: 15px 50px;\">References</h1>"
   ]
  },
  {
   "cell_type": "markdown",
   "metadata": {
    "papermill": {
     "duration": 0.044862,
     "end_time": "2021-04-19T18:39:38.654284",
     "exception": false,
     "start_time": "2021-04-19T18:39:38.609422",
     "status": "completed"
    },
    "tags": []
   },
   "source": [
    "For more information, please refer flower documentation:\n",
    "https://flower.dev/docs/"
   ]
  },
  {
   "cell_type": "markdown",
   "metadata": {
    "papermill": {
     "duration": 0.044593,
     "end_time": "2021-04-19T18:39:38.743762",
     "exception": false,
     "start_time": "2021-04-19T18:39:38.699169",
     "status": "completed"
    },
    "tags": []
   },
   "source": [
    "[Back to table of content](#table)"
   ]
  }
 ],
 "metadata": {
  "kernelspec": {
   "display_name": "Python 3 (ipykernel)",
   "language": "python",
   "name": "python3"
  },
  "language_info": {
   "codemirror_mode": {
    "name": "ipython",
    "version": 3
   },
   "file_extension": ".py",
   "mimetype": "text/x-python",
   "name": "python",
   "nbconvert_exporter": "python",
   "pygments_lexer": "ipython3",
   "version": "3.9.16"
  },
  "papermill": {
   "default_parameters": {},
   "duration": 43.611488,
   "end_time": "2021-04-19T18:39:40.190405",
   "environment_variables": {},
   "exception": null,
   "input_path": "__notebook__.ipynb",
   "output_path": "__notebook__.ipynb",
   "parameters": {},
   "start_time": "2021-04-19T18:38:56.578917",
   "version": "2.2.2"
  }
 },
 "nbformat": 4,
 "nbformat_minor": 4
}
